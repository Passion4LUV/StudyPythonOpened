{
 "cells": [
  {
   "cell_type": "code",
   "execution_count": null,
   "metadata": {},
   "outputs": [],
   "source": [
    "#class sample\n",
    "class FourCal:\n",
    "    retval = 0;\n",
    "    def __init__(self, first, second):\n",
    "        self.first = first\n",
    "        self.second = second\n",
    "    def setdata(self, first, second):\n",
    "        self.first = first\n",
    "        self.second = second\n",
    "    def add(self):\n",
    "        retval = self.first + self.second\n",
    "        return retval\n",
    "    def sub(self):\n",
    "        retval = self.first - self.second\n",
    "        return retval\n",
    "    def mul(self):\n",
    "        retval = self.first * self.second\n",
    "        return retval\n",
    "    def div(self):\n",
    "        retval = self.first / self.second\n",
    "        return retval\n",
    "\n",
    "\n",
    "instA = FourCal(44,8)\n",
    "print(instA.add())\n",
    "print(instA.mul())\n",
    "print(instA.sub())\n",
    "print(instA.div())\n",
    "instA.setdata(90,3)\n",
    "print(instA.div())"
   ]
  },
  {
   "cell_type": "code",
   "execution_count": 9,
   "metadata": {},
   "outputs": [
    {
     "name": "stdout",
     "output_type": "stream",
     "text": [
      "18\n",
      "512\n"
     ]
    }
   ],
   "source": [
    "#상속\n",
    "class MoreFourCal(FourCal):\n",
    "    def pow(self):\n",
    "        result = self.first ** self.second\n",
    "        return result\n",
    "\n",
    "instB = MoreFourCal(2,9)\n",
    "print(instB.mul())\n",
    "print(instB.pow())"
   ]
  },
  {
   "cell_type": "code",
   "execution_count": 14,
   "metadata": {},
   "outputs": [
    {
     "name": "stdout",
     "output_type": "stream",
     "text": [
      "0\n"
     ]
    }
   ],
   "source": [
    "# Override\n",
    "class SafeCal(FourCal):\n",
    "    def div(self):\n",
    "        if self.second == 0:\n",
    "            return 0\n",
    "        else:\n",
    "            retval = self.first / self.second\n",
    "            return retval\n",
    "\n",
    "instC = SafeCal(7,0)\n",
    "print(instC.div())\n",
    "instD = FourCal(7,0)\n",
    "#print(instD.div())"
   ]
  },
  {
   "cell_type": "code",
   "execution_count": 3,
   "metadata": {},
   "outputs": [
    {
     "data": {
      "text/plain": [
       "(2, 1)"
      ]
     },
     "execution_count": 3,
     "metadata": {},
     "output_type": "execute_result"
    }
   ],
   "source": [
    "divmod(7,3)"
   ]
  }
 ],
 "metadata": {
  "kernelspec": {
   "display_name": "base",
   "language": "python",
   "name": "python3"
  },
  "language_info": {
   "codemirror_mode": {
    "name": "ipython",
    "version": 3
   },
   "file_extension": ".py",
   "mimetype": "text/x-python",
   "name": "python",
   "nbconvert_exporter": "python",
   "pygments_lexer": "ipython3",
   "version": "3.10.9"
  }
 },
 "nbformat": 4,
 "nbformat_minor": 2
}
