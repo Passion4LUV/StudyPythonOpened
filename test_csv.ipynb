{
 "cells": [
  {
   "cell_type": "code",
   "execution_count": 34,
   "metadata": {},
   "outputs": [],
   "source": [
    "import numpy as np\n",
    "import pandas as pd\n",
    "import seaborn as sns\n",
    "import matplotlib.pyplot as plt"
   ]
  },
  {
   "cell_type": "code",
   "execution_count": 35,
   "metadata": {},
   "outputs": [
    {
     "name": "stdout",
     "output_type": "stream",
     "text": [
      "729 <class 'int'>\n"
     ]
    }
   ],
   "source": [
    "num_str = \"728\"  #형변환\n",
    "num_int = int(num_str)\n",
    "print(num_int+1, type(num_int))"
   ]
  },
  {
   "cell_type": "code",
   "execution_count": 36,
   "metadata": {},
   "outputs": [],
   "source": [
    "csv_test = pd.read_csv('csvtest.csv')"
   ]
  },
  {
   "cell_type": "code",
   "execution_count": 37,
   "metadata": {},
   "outputs": [],
   "source": [
    "avg_data  = csv_test['data'].mean() # 평균\n",
    "avg_data2 = csv_test['data2'].mean() # 평균\n",
    "med_data  = csv_test['data'].median() # 중앙값 = df['키'].quantile(0.5)\n",
    "med_data2 = csv_test['data2'].median() # 중앙값 = df['키'].quantile(0.5)"
   ]
  },
  {
   "cell_type": "code",
   "execution_count": 41,
   "metadata": {},
   "outputs": [
    {
     "data": {
      "text/html": [
       "<div>\n",
       "<style scoped>\n",
       "    .dataframe tbody tr th:only-of-type {\n",
       "        vertical-align: middle;\n",
       "    }\n",
       "\n",
       "    .dataframe tbody tr th {\n",
       "        vertical-align: top;\n",
       "    }\n",
       "\n",
       "    .dataframe thead tr th {\n",
       "        text-align: left;\n",
       "    }\n",
       "\n",
       "    .dataframe thead tr:last-of-type th {\n",
       "        text-align: right;\n",
       "    }\n",
       "</style>\n",
       "<table border=\"1\" class=\"dataframe\">\n",
       "  <thead>\n",
       "    <tr>\n",
       "      <th></th>\n",
       "      <th colspan=\"8\" halign=\"left\">no</th>\n",
       "      <th colspan=\"5\" halign=\"left\">data</th>\n",
       "      <th colspan=\"8\" halign=\"left\">data2</th>\n",
       "    </tr>\n",
       "    <tr>\n",
       "      <th></th>\n",
       "      <th>count</th>\n",
       "      <th>mean</th>\n",
       "      <th>std</th>\n",
       "      <th>min</th>\n",
       "      <th>25%</th>\n",
       "      <th>50%</th>\n",
       "      <th>75%</th>\n",
       "      <th>max</th>\n",
       "      <th>count</th>\n",
       "      <th>mean</th>\n",
       "      <th>...</th>\n",
       "      <th>75%</th>\n",
       "      <th>max</th>\n",
       "      <th>count</th>\n",
       "      <th>mean</th>\n",
       "      <th>std</th>\n",
       "      <th>min</th>\n",
       "      <th>25%</th>\n",
       "      <th>50%</th>\n",
       "      <th>75%</th>\n",
       "      <th>max</th>\n",
       "    </tr>\n",
       "    <tr>\n",
       "      <th>equip</th>\n",
       "      <th></th>\n",
       "      <th></th>\n",
       "      <th></th>\n",
       "      <th></th>\n",
       "      <th></th>\n",
       "      <th></th>\n",
       "      <th></th>\n",
       "      <th></th>\n",
       "      <th></th>\n",
       "      <th></th>\n",
       "      <th></th>\n",
       "      <th></th>\n",
       "      <th></th>\n",
       "      <th></th>\n",
       "      <th></th>\n",
       "      <th></th>\n",
       "      <th></th>\n",
       "      <th></th>\n",
       "      <th></th>\n",
       "      <th></th>\n",
       "      <th></th>\n",
       "    </tr>\n",
       "  </thead>\n",
       "  <tbody>\n",
       "    <tr>\n",
       "      <th>A001</th>\n",
       "      <td>8.0</td>\n",
       "      <td>4.5</td>\n",
       "      <td>2.449490</td>\n",
       "      <td>1.0</td>\n",
       "      <td>2.75</td>\n",
       "      <td>4.5</td>\n",
       "      <td>6.25</td>\n",
       "      <td>8.0</td>\n",
       "      <td>8.0</td>\n",
       "      <td>50.500</td>\n",
       "      <td>...</td>\n",
       "      <td>74.25</td>\n",
       "      <td>88.0</td>\n",
       "      <td>8.0</td>\n",
       "      <td>66.000</td>\n",
       "      <td>10.226017</td>\n",
       "      <td>55.0</td>\n",
       "      <td>59.75</td>\n",
       "      <td>63.5</td>\n",
       "      <td>69.25</td>\n",
       "      <td>88.0</td>\n",
       "    </tr>\n",
       "    <tr>\n",
       "      <th>B001</th>\n",
       "      <td>8.0</td>\n",
       "      <td>12.5</td>\n",
       "      <td>2.449490</td>\n",
       "      <td>9.0</td>\n",
       "      <td>10.75</td>\n",
       "      <td>12.5</td>\n",
       "      <td>14.25</td>\n",
       "      <td>16.0</td>\n",
       "      <td>8.0</td>\n",
       "      <td>58.625</td>\n",
       "      <td>...</td>\n",
       "      <td>75.25</td>\n",
       "      <td>92.0</td>\n",
       "      <td>8.0</td>\n",
       "      <td>71.625</td>\n",
       "      <td>10.084465</td>\n",
       "      <td>59.0</td>\n",
       "      <td>64.75</td>\n",
       "      <td>69.5</td>\n",
       "      <td>80.25</td>\n",
       "      <td>85.0</td>\n",
       "    </tr>\n",
       "    <tr>\n",
       "      <th>C001</th>\n",
       "      <td>4.0</td>\n",
       "      <td>18.5</td>\n",
       "      <td>1.290994</td>\n",
       "      <td>17.0</td>\n",
       "      <td>17.75</td>\n",
       "      <td>18.5</td>\n",
       "      <td>19.25</td>\n",
       "      <td>20.0</td>\n",
       "      <td>4.0</td>\n",
       "      <td>24.000</td>\n",
       "      <td>...</td>\n",
       "      <td>40.25</td>\n",
       "      <td>47.0</td>\n",
       "      <td>4.0</td>\n",
       "      <td>65.250</td>\n",
       "      <td>4.500000</td>\n",
       "      <td>59.0</td>\n",
       "      <td>63.50</td>\n",
       "      <td>66.5</td>\n",
       "      <td>68.25</td>\n",
       "      <td>69.0</td>\n",
       "    </tr>\n",
       "  </tbody>\n",
       "</table>\n",
       "<p>3 rows × 24 columns</p>\n",
       "</div>"
      ],
      "text/plain": [
       "         no                                                  data          \\\n",
       "      count  mean       std   min    25%   50%    75%   max count    mean   \n",
       "equip                                                                       \n",
       "A001    8.0   4.5  2.449490   1.0   2.75   4.5   6.25   8.0   8.0  50.500   \n",
       "B001    8.0  12.5  2.449490   9.0  10.75  12.5  14.25  16.0   8.0  58.625   \n",
       "C001    4.0  18.5  1.290994  17.0  17.75  18.5  19.25  20.0   4.0  24.000   \n",
       "\n",
       "       ...              data2                                               \\\n",
       "       ...    75%   max count    mean        std   min    25%   50%    75%   \n",
       "equip  ...                                                                   \n",
       "A001   ...  74.25  88.0   8.0  66.000  10.226017  55.0  59.75  63.5  69.25   \n",
       "B001   ...  75.25  92.0   8.0  71.625  10.084465  59.0  64.75  69.5  80.25   \n",
       "C001   ...  40.25  47.0   4.0  65.250   4.500000  59.0  63.50  66.5  68.25   \n",
       "\n",
       "             \n",
       "        max  \n",
       "equip        \n",
       "A001   88.0  \n",
       "B001   85.0  \n",
       "C001   69.0  \n",
       "\n",
       "[3 rows x 24 columns]"
      ]
     },
     "execution_count": 41,
     "metadata": {},
     "output_type": "execute_result"
    }
   ],
   "source": [
    "csv_test.groupby('equip').describe()"
   ]
  },
  {
   "cell_type": "code",
   "execution_count": 39,
   "metadata": {},
   "outputs": [
    {
     "data": {
      "text/plain": [
       "<matplotlib.collections.PathCollection at 0x2016e137a60>"
      ]
     },
     "execution_count": 39,
     "metadata": {},
     "output_type": "execute_result"
    },
    {
     "data": {
      "image/png": "[encoded data removed]",
      "text/plain": [
       "<Figure size 640x480 with 1 Axes>"
      ]
     },
     "metadata": {},
     "output_type": "display_data"
    }
   ],
   "source": [
    "plt.title(\"Sample Chart\")\n",
    "plt.scatter(csv_test['data'],csv_test['data2'])"
   ]
  },
  {
   "cell_type": "code",
   "execution_count": 40,
   "metadata": {},
   "outputs": [
    {
     "data": {
      "image/png": "[encoded data removed]",
      "text/plain": [
       "<Figure size 1000x500 with 1 Axes>"
      ]
     },
     "metadata": {},
     "output_type": "display_data"
    }
   ],
   "source": [
    "plt.figure(figsize=(10, 5)) # 크기 지정\n",
    "boxplot = csv_test.boxplot(column=['data','data2'])\n",
    "plt.show()"
   ]
  }
 ],
 "metadata": {
  "kernelspec": {
   "display_name": "base",
   "language": "python",
   "name": "python3"
  },
  "language_info": {
   "codemirror_mode": {
    "name": "ipython",
    "version": 3
   },
   "file_extension": ".py",
   "mimetype": "text/x-python",
   "name": "python",
   "nbconvert_exporter": "python",
   "pygments_lexer": "ipython3",
   "version": "3.10.9"
  }
 },
 "nbformat": 4,
 "nbformat_minor": 2
}
