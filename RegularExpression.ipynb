{
 "cells": [
  {
   "cell_type": "code",
   "execution_count": 8,
   "metadata": {},
   "outputs": [],
   "source": [
    "#정규표현식 Regular Expression\n",
    "data = \"\"\"\n",
    "    park 800905-1049118\n",
    "    kim  700905-1059919\n",
    "\"\"\""
   ]
  },
  {
   "cell_type": "code",
   "execution_count": 10,
   "metadata": {},
   "outputs": [
    {
     "name": "stdout",
     "output_type": "stream",
     "text": [
      "['']\n",
      "['']\n",
      "['', '']\n",
      "['', '', '']\n",
      "['', '', '', '']\n",
      "['', '', '', '', 'park']\n",
      "['', '', '', '', 'park', '800905-*******']\n",
      "['']\n",
      "['', '']\n",
      "['', '', '']\n",
      "['', '', '', '']\n",
      "['', '', '', '', 'kim']\n",
      "['', '', '', '', 'kim', '']\n",
      "['', '', '', '', 'kim', '', '700905-*******']\n",
      "['']\n"
     ]
    }
   ],
   "source": [
    "result = []\n",
    "for line in data.split(\"\\n\"):\n",
    "    word_result = []\n",
    "    #print(line) # park 800905-1049118, kim  700905-1059919\n",
    "    for word in line.split(\" \"):\n",
    "        if len(word) == 14 and word[:6].isdigit() and word[7:].isdigit():\n",
    "            word = word[:6] + \"-\" + \"*******\"\n",
    "        word_result.append(word)\n",
    "        print(word_result)\n",
    "#    result.append(\" \".join(word_result))\n",
    "#print(\"\\n\".join(result))"
   ]
  }
 ],
 "metadata": {
  "kernelspec": {
   "display_name": "base",
   "language": "python",
   "name": "python3"
  },
  "language_info": {
   "codemirror_mode": {
    "name": "ipython",
    "version": 3
   },
   "file_extension": ".py",
   "mimetype": "text/x-python",
   "name": "python",
   "nbconvert_exporter": "python",
   "pygments_lexer": "ipython3",
   "version": "3.10.9"
  }
 },
 "nbformat": 4,
 "nbformat_minor": 2
}
