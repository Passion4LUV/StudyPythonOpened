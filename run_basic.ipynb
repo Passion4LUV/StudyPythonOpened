{
 "cells": [
  {
   "cell_type": "code",
   "execution_count": null,
   "metadata": {},
   "outputs": [],
   "source": [
    "for a in [1,2,3]:\n",
    "    print(a)"
   ]
  },
  {
   "cell_type": "code",
   "execution_count": null,
   "metadata": {},
   "outputs": [],
   "source": [
    "i = 0\n",
    "while i < 10:\n",
    "    i = i + 1\n",
    "    print(i)"
   ]
  },
  {
   "cell_type": "code",
   "execution_count": null,
   "metadata": {},
   "outputs": [],
   "source": [
    "def add(a,b):\n",
    "    return a + b\n",
    "\n",
    "add(3,6)"
   ]
  },
  {
   "cell_type": "code",
   "execution_count": null,
   "metadata": {},
   "outputs": [],
   "source": [
    "def factorial(a):\n",
    "    if a == 1:\n",
    "        return 1\n",
    "    else:\n",
    "        return a + factorial(a-1)\n",
    "\n",
    "factorial(100)   "
   ]
  },
  {
   "cell_type": "code",
   "execution_count": null,
   "metadata": {},
   "outputs": [],
   "source": [
    "multiline = \"\"\"\n",
    "Life is too short\n",
    "You need python\n",
    "\"\"\"\n",
    "print(multiline)"
   ]
  },
  {
   "cell_type": "code",
   "execution_count": null,
   "metadata": {},
   "outputs": [],
   "source": [
    "multiline2 = \"Life is too short\\nYou need python\"\n",
    "print(multiline2)"
   ]
  },
  {
   "cell_type": "code",
   "execution_count": null,
   "metadata": {},
   "outputs": [],
   "source": [
    "for i in range(0,11,2):\n",
    "    print(i)"
   ]
  },
  {
   "cell_type": "code",
   "execution_count": null,
   "metadata": {},
   "outputs": [],
   "source": [
    "marks = [90,25,67,45,80]\n",
    "for number in range(len(marks)):\n",
    "    if marks[number] < 60:  continue\n",
    "    print(\"%d번 학생 축하합니다. 합격입니다.\"%(number+1))"
   ]
  },
  {
   "cell_type": "code",
   "execution_count": null,
   "metadata": {},
   "outputs": [],
   "source": [
    "for i in range(1,10):\n",
    "    for j in range(1,10):\n",
    "        print(\"{first} * {second} = {result}\".format(first=i,second=j,result=i*j))\n",
    "    print()"
   ]
  },
  {
   "cell_type": "code",
   "execution_count": null,
   "metadata": {},
   "outputs": [],
   "source": [
    "def add_mul(choice, *args):\n",
    "    result = 0\n",
    "    if choice == \"add\":\n",
    "        result = 0\n",
    "        for i in args:\n",
    "            result = result + i\n",
    "    elif choice == \"mul\":\n",
    "        result = 1\n",
    "        for i in args:\n",
    "            result = result * i\n",
    "    return result\n",
    "\n",
    "rst = add_mul('add', 1,2,3,4,5,6,7,8,9)\n",
    "print(rst)\n",
    "\n",
    "rst = add_mul('mul', 1,2,3,4,5,6,7,8,9)\n",
    "print(rst)\n",
    "\n",
    "rst = add_mul('sub', 1,2,3,4,5,6,7,8,9)\n",
    "print(rst)\n",
    "\n"
   ]
  },
  {
   "cell_type": "code",
   "execution_count": null,
   "metadata": {},
   "outputs": [],
   "source": [
    "#lambda 함수 생성(간결한\n",
    "add = lambda a,b : a+b\n",
    "ret = add(5,6)\n",
    "print(ret)"
   ]
  },
  {
   "cell_type": "code",
   "execution_count": null,
   "metadata": {},
   "outputs": [],
   "source": [
    "#파일 쓰기\n",
    "f = open(\"D:/Python/filetest.txt\",'w')\n",
    "for i in range (1,11):\n",
    "    data = \"정채운 %d는 천재입니다..\\n\" % i\n",
    "    f.write(data)\n",
    "f.close()"
   ]
  },
  {
   "cell_type": "code",
   "execution_count": null,
   "metadata": {},
   "outputs": [],
   "source": [
    "#파일 읽기\n",
    "f = open(\"D:/Python/filetest.txt\",'r')\n",
    "while True:\n",
    "    line = f.readline()\n",
    "    if not line: break\n",
    "    print(line)\n",
    "f.close()"
   ]
  },
  {
   "cell_type": "code",
   "execution_count": null,
   "metadata": {},
   "outputs": [],
   "source": [
    "#파일 읽기\n",
    "f = open(\"D:/Python/filetest.txt\",'r')\n",
    "for a in f.readlines():\n",
    "    print(a)\n",
    "f.close()"
   ]
  },
  {
   "cell_type": "code",
   "execution_count": null,
   "metadata": {},
   "outputs": [],
   "source": [
    "#close없이 하기\n",
    "with open(\"D:/Python/filetest.txt\",'r') as f:\n",
    "    for a in f.readlines():\n",
    "        print(a)"
   ]
  },
  {
   "cell_type": "code",
   "execution_count": 8,
   "metadata": {},
   "outputs": [
    {
     "data": {
      "text/plain": [
       "['d:\\\\Python\\\\csvtest.csv',\n",
       " 'd:\\\\Python\\\\csv_handling',\n",
       " 'd:\\\\Python\\\\ex300_china',\n",
       " 'd:\\\\Python\\\\ex300_KOR',\n",
       " 'd:\\\\Python\\\\factorial.ipynb',\n",
       " 'd:\\\\Python\\\\filetest.txt',\n",
       " 'd:\\\\Python\\\\run_basic.ipynb',\n",
       " 'd:\\\\Python\\\\run_class.ipynb',\n",
       " 'd:\\\\Python\\\\test.py',\n",
       " 'd:\\\\Python\\\\test.spec',\n",
       " 'd:\\\\Python\\\\test_build.exe',\n",
       " 'd:\\\\Python\\\\test_csv.ipynb',\n",
       " 'd:\\\\Python\\\\test_dist.exe',\n",
       " 'd:\\\\Python\\\\test_ipynb.ipynb',\n",
       " 'd:\\\\Python\\\\test_json.json',\n",
       " 'd:\\\\Python\\\\Untitled.ipynb',\n",
       " 'd:\\\\Python\\\\Untitled1.ipynb']"
      ]
     },
     "execution_count": 8,
     "metadata": {},
     "output_type": "execute_result"
    }
   ],
   "source": [
    "import os\n",
    "import glob\n",
    "allfile = os.getcwd()+\"\\*\"\n",
    "glob.glob(allfile)"
   ]
  }
 ],
 "metadata": {
  "kernelspec": {
   "display_name": "base",
   "language": "python",
   "name": "python3"
  },
  "language_info": {
   "codemirror_mode": {
    "name": "ipython",
    "version": 3
   },
   "file_extension": ".py",
   "mimetype": "text/x-python",
   "name": "python",
   "nbconvert_exporter": "python",
   "pygments_lexer": "ipython3",
   "version": "3.10.9"
  }
 },
 "nbformat": 4,
 "nbformat_minor": 2
}
