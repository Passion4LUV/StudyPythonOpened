{
 "cells": [
  {
   "cell_type": "code",
   "execution_count": 1,
   "metadata": {},
   "outputs": [],
   "source": [
    "#Tkinter\n",
    "from tkinter import *\n",
    "from datetime import datetime\n",
    "\n",
    "def what_time():\n",
    "    #print(datetime.now())\n",
    "    dnow = datetime.now()\n",
    "    btn.config(text = dnow)\n",
    "\n",
    "def ent_p():\n",
    "    strRET = ent.get()                        # 입력창 내용 추출 \n",
    "    btn.config(text = strRET)\n",
    "\n",
    "#window\n",
    "win = Tk()\n",
    "win.geometry(\"500x100\")\n",
    "win.title(\"what time?\")\n",
    "win.option_add(\"*Font\",\"맑은고딕 10\")\n",
    "\n",
    "btn = Button(win, text=\"현재 시각\")\n",
    "btn.config(width=30,height=2)\n",
    "btn.config(command = ent_p)  #  버튼의 기능 XZzxzz\n",
    "btn.pack()\n",
    "\n",
    "#입력창\n",
    "ent = Entry(win)\n",
    "ent.pack()\n",
    "\n",
    "\n",
    "win.mainloop()"
   ]
  },
  {
   "cell_type": "code",
   "execution_count": 19,
   "metadata": {},
   "outputs": [
    {
     "name": "stdout",
     "output_type": "stream",
     "text": [
      "        Run  WF   X   Y\n",
      "0   AAA1234   5  11  31\n",
      "1   AAA1235   6  12  30\n",
      "2   AAA1236   7  13  29\n",
      "3   AAA1237   8  14  28\n",
      "4   AAA1238   9  15  27\n",
      "5   AAA1239  10  16  26\n",
      "6   AAA1240  11  17  25\n",
      "7   AAA1241  12  18  24\n",
      "8   AAA1242  13  19  23\n",
      "9   AAA1243  14  20  22\n",
      "10  AAA1244  15  21  21\n",
      "11  AAA1245  16  22  20\n",
      "12  AAA1246  17  23  19\n",
      "13  AAA1247  18  24  18\n",
      "14  AAA1248  19  25  17\n",
      "15  AAA1249  20  26  16\n",
      "16  AAA1250  21  27  15\n"
     ]
    }
   ],
   "source": [
    "from tkinter import filedialog\n",
    "import pandas as pd\n",
    "filename = filedialog.askopenfilename(filetypes=((\"Excel Files\", \"*.xls\"),(\"Excel Files\", \"*.xlsx\")))\n",
    "#if (len(filename)!= 0):\n",
    "try:\n",
    "    df2 = pd.read_excel(filename)\n",
    "    print(df2)\n",
    "except:\n",
    "    print(\"Canceled\")"
   ]
  }
 ],
 "metadata": {
  "kernelspec": {
   "display_name": "base",
   "language": "python",
   "name": "python3"
  },
  "language_info": {
   "codemirror_mode": {
    "name": "ipython",
    "version": 3
   },
   "file_extension": ".py",
   "mimetype": "text/x-python",
   "name": "python",
   "nbconvert_exporter": "python",
   "pygments_lexer": "ipython3",
   "version": "3.10.9"
  }
 },
 "nbformat": 4,
 "nbformat_minor": 2
}
